{
 "cells": [
  {
   "cell_type": "code",
   "execution_count": 1,
   "id": "4a0f8c8f-1fa0-404a-a723-149aa5489049",
   "metadata": {},
   "outputs": [],
   "source": [
    "import numpy as np"
   ]
  },
  {
   "cell_type": "code",
   "execution_count": 11,
   "id": "45c27dba-fd4c-436d-b3d6-b48b131da30b",
   "metadata": {},
   "outputs": [],
   "source": [
    "def method1(length):\n",
    "    return np.random.randint(10, 51, size=length)"
   ]
  },
  {
   "cell_type": "code",
   "execution_count": 6,
   "id": "7eeaf801-f076-487d-9d8f-6edf98363d53",
   "metadata": {},
   "outputs": [],
   "source": [
    "def method2(list):\n",
    "    return np.sum(list)"
   ]
  },
  {
   "cell_type": "code",
   "execution_count": 12,
   "id": "3be94abe-d013-4df9-88c2-772c574bdf1e",
   "metadata": {},
   "outputs": [],
   "source": [
    "def main():\n",
    "    user_entry = int(input(\"Enter an integer number between 5 and 15: \"))\n",
    "    \n",
    "    if 5 <= user_entry <= 15:\n",
    "        my_list = method1(user_entry)\n",
    "        \n",
    "        print(\"Elements in the list:\", my_list)\n",
    "\n",
    "        total_sum = method2(list)\n",
    "\n",
    "        print(\"Sum of all elements:\", total_sum)\n",
    "    else:\n",
    "        print(\"Invalid input. Please enter an integer between 5 and 15.\")\n",
    "        \n",
    "\n",
    "    "
   ]
  },
  {
   "cell_type": "code",
   "execution_count": 13,
   "id": "b1e8e77d-5e32-4ea9-8569-ab7942fea3dc",
   "metadata": {},
   "outputs": [
    {
     "name": "stdin",
     "output_type": "stream",
     "text": [
      "Enter an integer number between 5 and 15:  5\n"
     ]
    },
    {
     "name": "stdout",
     "output_type": "stream",
     "text": [
      "Elements in the list: [43 44 36 14 14]\n",
      "Sum of all elements: <class 'list'>\n"
     ]
    }
   ],
   "source": [
    "if __name__ == \"__main__\":\n",
    "    main()"
   ]
  },
  {
   "cell_type": "code",
   "execution_count": null,
   "id": "4b94cb72-2071-4b7f-907b-8c3857054364",
   "metadata": {},
   "outputs": [],
   "source": []
  }
 ],
 "metadata": {
  "kernelspec": {
   "display_name": "Python 3 (ipykernel)",
   "language": "python",
   "name": "python3"
  },
  "language_info": {
   "codemirror_mode": {
    "name": "ipython",
    "version": 3
   },
   "file_extension": ".py",
   "mimetype": "text/x-python",
   "name": "python",
   "nbconvert_exporter": "python",
   "pygments_lexer": "ipython3",
   "version": "3.9.13"
  }
 },
 "nbformat": 4,
 "nbformat_minor": 5
}
